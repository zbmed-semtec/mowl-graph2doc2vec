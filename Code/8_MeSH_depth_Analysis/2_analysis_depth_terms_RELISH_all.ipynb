{
 "cells": [
  {
   "cell_type": "code",
   "execution_count": 19,
   "metadata": {},
   "outputs": [],
   "source": [
    "import json\n",
    "import pandas as pd\n",
    "import seaborn as sns\n",
    "import re\n",
    "import pickle\n",
    "# import mowl\n",
    "# mowl.init_jvm(\"4g\")\n",
    "import networkx as nx\n",
    "from networkx.readwrite import json_graph\n",
    "import matplotlib.pyplot as plt"
   ]
  },
  {
   "attachments": {},
   "cell_type": "markdown",
   "metadata": {},
   "source": [
    "## Load depth graph\n"
   ]
  },
  {
   "cell_type": "code",
   "execution_count": 20,
   "metadata": {},
   "outputs": [
    {
     "name": "stdout",
     "output_type": "stream",
     "text": [
      "1\n",
      "DiGraph with 30585 nodes and 41731 edges\n"
     ]
    }
   ],
   "source": [
    "big_G = {}\n",
    "\n",
    "def read_json_file(filename):\n",
    "    with open(filename) as f:\n",
    "        js_graph = json.load(f)\n",
    "    return json_graph.node_link_graph(js_graph)\n",
    "\n",
    "big_G = read_json_file(\"../../Data/Output/8/MeSH_graph_with_depth.json\")\n",
    "\n",
    "print(big_G.nodes[\"D004628\"][\"Depth\"])\n",
    "print(big_G)"
   ]
  },
  {
   "attachments": {},
   "cell_type": "markdown",
   "metadata": {},
   "source": [
    "## Frequency analysis of MeSH terms in RELISH abstracts\n",
    "\n",
    "We will load a json file that contains all the MeSH terms that are mentioned in RELISH abstracts"
   ]
  },
  {
   "cell_type": "code",
   "execution_count": 21,
   "metadata": {},
   "outputs": [],
   "source": [
    "MeSH_cnt = {}\n",
    "\n",
    "'''\n",
    "    Function to load a dataset containing the frequency of words and MeSH in RELISH abstracts.\n",
    "    https://drive.google.com/file/d/1V2jviTCjTq2_qeh4z535P59wr0eCv5ZQ/view?usp=share_link\n",
    "\n",
    "    Input:  path -> The path location of the json file.\n",
    "    Output: A python dictionary {PMID : [[mesh_1,cnt_1], [mesh_2,cnt_2], ..., [mesh_n,cnt_n]] }\n",
    "'''\n",
    "\n",
    "def load_Dataset(path):\n",
    "    global all_terms\n",
    "    with open(path) as f:\n",
    "        all_terms = json.load(f)\n",
    "\n",
    "load_Dataset(\"../../Data/Output/3/Abstract2Graph_Cnt_Occurrence.json\")"
   ]
  },
  {
   "cell_type": "code",
   "execution_count": 22,
   "metadata": {},
   "outputs": [],
   "source": [
    "big_G_nodes = set([x[0] for x in list(big_G.nodes.items())])\n",
    "\n",
    "for k in big_G_nodes:\n",
    "    if(k not in MeSH_cnt):\n",
    "        MeSH_cnt[k] = 0\n",
    "\n",
    "'''\n",
    "    Function to sum up the appearances of each individual MeSH term in the RESLISH abstracts.\n",
    "\n",
    "    Input:  \n",
    "    Output: A Dictionary with the  count of the appearances of a STY, when an STY appears its parents as well appear   \n",
    "            {graph_id : CNT} the graph_id is the number representing a MeSH term in the graph representing the ontology.\n",
    "'''\n",
    "def count_MeSH_in_Dataset():\n",
    "    for abstract_id in all_terms:\n",
    "        MeSH_list = all_terms[abstract_id]\n",
    "        for MeSH_raw,cnt in MeSH_list:\n",
    "            #Remove the \"MeSH\" part of the abstract annotations \n",
    "            MeSH = MeSH_raw[4:len(str(MeSH_raw))]\n",
    "            if MeSH in big_G_nodes:\n",
    "                graph_id = MeSH\n",
    "                if(graph_id in MeSH_cnt):\n",
    "                    MeSH_cnt[graph_id] = MeSH_cnt[graph_id] + cnt\n",
    "                else:\n",
    "                    MeSH_cnt[graph_id] = cnt\n",
    "\n",
    "count_MeSH_in_Dataset()"
   ]
  },
  {
   "cell_type": "code",
   "execution_count": 23,
   "metadata": {},
   "outputs": [
    {
     "name": "stdout",
     "output_type": "stream",
     "text": [
      "1088\n"
     ]
    }
   ],
   "source": [
    "nx.set_node_attributes(big_G, MeSH_cnt, \"Frequency\")\n",
    "print(big_G.nodes[\"D000067565\"][\"Frequency\"])"
   ]
  },
  {
   "cell_type": "code",
   "execution_count": 24,
   "metadata": {},
   "outputs": [],
   "source": [
    "with open(\"../../Data/Output/8/RELISH_frequency_MeSH_graph_with_depth+freq.json\", \"w\") as fp:\n",
    "            json.dump(json_graph.node_link_data(big_G),fp,indent = 2) "
   ]
  },
  {
   "attachments": {},
   "cell_type": "markdown",
   "metadata": {},
   "source": [
    "## Frequency visualization"
   ]
  },
  {
   "cell_type": "code",
   "execution_count": 25,
   "metadata": {},
   "outputs": [
    {
     "name": "stdout",
     "output_type": "stream",
     "text": [
      "    Depth in Mesh Tree  MeSH count\n",
      "0                    1      297335\n",
      "1                    2     1480080\n",
      "2                    3     1508808\n",
      "3                    4     1134249\n",
      "4                    5      536608\n",
      "5                    6      171902\n",
      "6                    7       77592\n",
      "7                    8       71579\n",
      "8                    9       43060\n",
      "9                   10       56942\n",
      "10                  11       51595\n",
      "11                  12        6659\n",
      "12                  13        3054\n"
     ]
    },
    {
     "data": {
      "image/png": "[encoded data removed]",
      "text/plain": [
       "<Figure size 640x480 with 1 Axes>"
      ]
     },
     "metadata": {},
     "output_type": "display_data"
    }
   ],
   "source": [
    "i = 0\n",
    "Depth_vs_freq = {}\n",
    "for node_id in big_G.nodes:\n",
    "    if(node_id in big_G_nodes and MeSH_cnt[node_id] != 0):\n",
    "        dpth = big_G.nodes[node_id][\"Depth\"]\n",
    "        freq = big_G.nodes[node_id][\"Frequency\"]\n",
    "        if(dpth in Depth_vs_freq): Depth_vs_freq[dpth] += freq\n",
    "        else: Depth_vs_freq[dpth] = freq        \n",
    "        i+=1\n",
    "    # if(i == 20): break\n",
    "\n",
    "sortedKeys = list(Depth_vs_freq.keys())\n",
    "sortedKeys.sort()\n",
    "Depth_vs_freq = {i: Depth_vs_freq[i] for i in sortedKeys}\n",
    "\n",
    "df_Depth_vs_freq = pd.DataFrame()\n",
    "df_Depth_vs_freq['Depth in Mesh Tree'] = list(Depth_vs_freq.keys())\n",
    "df_Depth_vs_freq['MeSH count'] = list(Depth_vs_freq.values())\n",
    "\n",
    "print(df_Depth_vs_freq)\n",
    "sns.barplot(df_Depth_vs_freq, x=\"Depth in Mesh Tree\", y=\"MeSH count\").set(title='Depth frequencies of MeSH terms in RELISH abstracts with repetitions')\n",
    "plt.savefig(\"../../Data/Images/Graphs/Depth_frequencies_MeSH_in_RELISH_abstracts_with_repetitions.png\") "
   ]
  },
  {
   "attachments": {},
   "cell_type": "markdown",
   "metadata": {},
   "source": [
    "## Addition of depth column to the hybridword2vec_all_idf dataset\n",
    "\n",
    "The original hybridword2vec_all_idf dataset with a new column regarding "
   ]
  },
  {
   "cell_type": "code",
   "execution_count": 28,
   "metadata": {},
   "outputs": [
    {
     "name": "stdout",
     "output_type": "stream",
     "text": [
      "    Unnamed: 0         word      df     idf  Depth\n",
      "0            0          the  388889  0.1680     -1\n",
      "1            1           of  370731  0.2158     -1\n",
      "2            2          and  244784  0.6309     -1\n",
      "3            3           in  377940  0.1965     -1\n",
      "4            4           to  307461  0.4029     -1\n",
      "5            5            a  445648  0.0317     -1\n",
      "6            6           is  187264  0.8987     -1\n",
      "7            7          for  174439  0.9697     -1\n",
      "8            8           by  103204  1.4945     -1\n",
      "9            9    catalyzes  131358  1.2533     -1\n",
      "10          10         that  104053  1.4863     -1\n",
      "11          11  meshd011506   86557  1.6704      2\n",
      "12          12           as  177144  0.9543     -1\n",
      "13          13         with   97517  1.5512     -1\n",
      "14          14     involved   94278  1.5850     -1\n",
      "15          15         from   84097  1.6993     -1\n",
      "16          16  meshd012380   65290  1.9524      4\n",
      "17          17           an  320220  0.3622     -1\n",
      "18          18      complex   54105  2.1403     -1\n",
      "19          19           it  254851  0.5906     -1\n",
      "\n",
      "\n",
      "Detph of node meshd012380:  4\n"
     ]
    }
   ],
   "source": [
    "path = \"../../Data/Input/8/hybridword2vec_all_idf.tsv\"\n",
    "df_TP = pd.read_csv(path,sep='\\t')\n",
    "depths = []\n",
    "for i in df_TP.index:\n",
    "    node_id = str.upper(str(df_TP['word'][i])[4:len(str(df_TP['word'][i]))])\n",
    "    if(node_id in big_G_nodes and MeSH_cnt[node_id] != 0):\n",
    "        depths.append(big_G.nodes[node_id][\"Depth\"])\n",
    "    else:\n",
    "        depths.append(-1)\n",
    "\n",
    "df_TP['Depth'] = depths\n",
    "\n",
    "df_TP.to_csv(\"../../Data/Output/8/hybridword2vec_all_idf+depth.tsv\",index=False,sep=\"\\t\")\n",
    "\n",
    "print(df_TP.head(20))\n",
    "print()  \n",
    "print()  \n",
    "print(\"Detph of node meshd012380: \",big_G.nodes[\"D012380\"][\"Depth\"])       "
   ]
  }
 ],
 "metadata": {
  "kernelspec": {
   "display_name": "graph2doc2vec_env",
   "language": "python",
   "name": "python3"
  },
  "language_info": {
   "codemirror_mode": {
    "name": "ipython",
    "version": 3
   },
   "file_extension": ".py",
   "mimetype": "text/x-python",
   "name": "python",
   "nbconvert_exporter": "python",
   "pygments_lexer": "ipython3",
   "version": "3.10.9"
  },
  "orig_nbformat": 4,
  "vscode": {
   "interpreter": {
    "hash": "1bed0e639ae37f4873fb0f11e8a4526b2621243edb4f8734a70cd3367cf8a468"
   }
  }
 },
 "nbformat": 4,
 "nbformat_minor": 2
}
