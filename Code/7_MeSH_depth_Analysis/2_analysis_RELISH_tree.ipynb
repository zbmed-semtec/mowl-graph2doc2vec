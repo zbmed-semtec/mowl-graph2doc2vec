{
 "cells": [
  {
   "cell_type": "code",
   "execution_count": 1,
   "metadata": {},
   "outputs": [],
   "source": [
    "import json\n",
    "import pandas as pd\n",
    "import seaborn as sns\n",
    "import re\n",
    "import pickle\n",
    "# import mowl\n",
    "# mowl.init_jvm(\"4g\")\n",
    "import networkx as nx\n",
    "from networkx.readwrite import json_graph\n",
    "import matplotlib.pyplot as plt"
   ]
  },
  {
   "attachments": {},
   "cell_type": "markdown",
   "metadata": {},
   "source": [
    "## Load depth graph\n"
   ]
  },
  {
   "cell_type": "code",
   "execution_count": 2,
   "metadata": {},
   "outputs": [
    {
     "name": "stdout",
     "output_type": "stream",
     "text": [
      "1\n"
     ]
    }
   ],
   "source": [
    "big_G = {}\n",
    "\n",
    "def read_json_file(filename):\n",
    "    with open(filename) as f:\n",
    "        js_graph = json.load(f)\n",
    "    return json_graph.node_link_graph(js_graph)\n",
    "\n",
    "big_G = read_json_file(\"../../Data/Output/MeSH_graph_with_depth.json\")\n",
    "\n",
    "print(big_G.nodes[\"D004628\"][\"Depth\"])"
   ]
  },
  {
   "attachments": {},
   "cell_type": "markdown",
   "metadata": {},
   "source": [
    "## Frequency analysis of MeSH terms in RELISH abstracts\n",
    "\n",
    "We will load a json file that contains all the MeSH terms that are mentioned in pubmed abstracts"
   ]
  },
  {
   "cell_type": "code",
   "execution_count": 3,
   "metadata": {},
   "outputs": [],
   "source": [
    "unq_terms = {}\n",
    "MeSH_cnt = {}\n",
    "\n",
    "'''\n",
    "    Function to load the unique MeSH identifiers in Relish abstracts.\n",
    "    https://drive.google.com/file/d/1MT6GsivH-pY-6l3_-NwXLsZhxeoH4TCQ/view?usp=share_link\n",
    "    \n",
    "\n",
    "    Input:  path -> The path location of the json file.\n",
    "    Output: A python dictionary {PMID : [mesh_1, mesh_2, ..., mesh_n] }\n",
    "'''\n",
    "def load_Dataset(path):\n",
    "    global unq_terms\n",
    "    with open(path) as f:\n",
    "        unq_terms = json.load(f)\n",
    "    # print(unq_terms)\n",
    "\n",
    "load_Dataset(\"../../Data/Output/Abstract2Graph_uniqueTerms.json\")"
   ]
  },
  {
   "cell_type": "code",
   "execution_count": 4,
   "metadata": {},
   "outputs": [],
   "source": [
    "big_G_nodes = set([x[0] for x in list(big_G.nodes.items())])\n",
    "\n",
    "for k in big_G_nodes:\n",
    "    if(k not in MeSH_cnt):\n",
    "        MeSH_cnt[k] = 0\n",
    "\n",
    "'''\n",
    "    Function  count of the appearances of each individual MeSH term in the RESLISH abstracts.\n",
    "\n",
    "    Input:  \n",
    "    Output: A Dictionary with the  count of the appearances of a STY, when an STY appears its parents as well appear   \n",
    "            {graph_id : CNT} the graph_id is the number representing a MeSH term in the graph representing the ontology.\n",
    "'''\n",
    "def count_MeSH_in_Dataset():\n",
    "    for abstract_id in unq_terms:\n",
    "        MeSH_list = unq_terms[abstract_id]\n",
    "        for MeSH_raw in MeSH_list:\n",
    "            #Remove the \"MeSH\" part of the abstract annotations \n",
    "            MeSH = MeSH_raw[4:len(str(MeSH_raw))]\n",
    "            # print(MeSH)\n",
    "            if MeSH in big_G_nodes:\n",
    "                graph_id = MeSH\n",
    "                if(graph_id in MeSH_cnt):\n",
    "                    MeSH_cnt[graph_id] = MeSH_cnt[graph_id] + 1\n",
    "                else:\n",
    "                    MeSH_cnt[graph_id] = 1\n",
    "\n",
    "    #print(sorted(MeSH_cnt.items(), key=lambda kv:(-kv[1], -kv[0])))\n",
    "\n",
    "count_MeSH_in_Dataset()"
   ]
  },
  {
   "cell_type": "code",
   "execution_count": 5,
   "metadata": {},
   "outputs": [
    {
     "name": "stdout",
     "output_type": "stream",
     "text": [
      "414\n"
     ]
    }
   ],
   "source": [
    "nx.set_node_attributes(big_G, MeSH_cnt, \"Frequency_Pubmed\")\n",
    "print(big_G.nodes[\"D000067565\"][\"Frequency_Pubmed\"])"
   ]
  },
  {
   "cell_type": "code",
   "execution_count": 6,
   "metadata": {},
   "outputs": [],
   "source": [
    "with open(\"../../Data/Output/RELISH_MeSH_graph_with_depth+freq.json\", \"w\") as fp:\n",
    "            json.dump(json_graph.node_link_data(big_G),fp,indent = 2) "
   ]
  },
  {
   "attachments": {},
   "cell_type": "markdown",
   "metadata": {},
   "source": [
    "## Frequency visualization"
   ]
  },
  {
   "cell_type": "code",
   "execution_count": 7,
   "metadata": {},
   "outputs": [
    {
     "name": "stdout",
     "output_type": "stream",
     "text": [
      "    Depth in Mesh Tree  MeSH count\n",
      "0                    1      133247\n",
      "1                    2      787721\n",
      "2                    3      811868\n",
      "3                    4      633620\n",
      "4                    5      268262\n",
      "5                    6       89341\n",
      "6                    7       38575\n",
      "7                    8       28513\n",
      "8                    9       18130\n",
      "9                   10       20821\n",
      "10                  11       27355\n",
      "11                  12        2702\n",
      "12                  13        1309\n"
     ]
    },
    {
     "data": {
      "text/plain": [
       "[Text(0.5, 1.0, 'Unique MeSH depth frequencies in RELISH abstracts')]"
      ]
     },
     "execution_count": 7,
     "metadata": {},
     "output_type": "execute_result"
    },
    {
     "data": {
      "image/png": "[encoded data removed]",
      "text/plain": [
       "<Figure size 640x480 with 1 Axes>"
      ]
     },
     "metadata": {},
     "output_type": "display_data"
    }
   ],
   "source": [
    "i = 0\n",
    "Depth_vs_freq = {}\n",
    "for node_id in big_G.nodes:\n",
    "    if(node_id in big_G_nodes and MeSH_cnt[node_id] != 0):\n",
    "        dpth = big_G.nodes[node_id][\"Depth\"]\n",
    "        freq = big_G.nodes[node_id][\"Frequency_Pubmed\"]\n",
    "        if(dpth in Depth_vs_freq): Depth_vs_freq[dpth] += freq\n",
    "        else: Depth_vs_freq[dpth] = freq        \n",
    "        i+=1\n",
    "    # if(i == 20): break\n",
    "\n",
    "sortedKeys = list(Depth_vs_freq.keys())\n",
    "sortedKeys.sort()\n",
    "Depth_vs_freq = {i: Depth_vs_freq[i] for i in sortedKeys}\n",
    "\n",
    "df_Depth_vs_freq = pd.DataFrame()\n",
    "df_Depth_vs_freq['Depth in Mesh Tree'] = list(Depth_vs_freq.keys())\n",
    "df_Depth_vs_freq['MeSH count'] = list(Depth_vs_freq.values())\n",
    "\n",
    "print(df_Depth_vs_freq)\n",
    "sns.barplot(df_Depth_vs_freq, x=\"Depth in Mesh Tree\", y=\"MeSH count\").set(title='Unique MeSH depth frequencies in RELISH abstracts')"
   ]
  }
 ],
 "metadata": {
  "kernelspec": {
   "display_name": "graph2doc2vec_env",
   "language": "python",
   "name": "python3"
  },
  "language_info": {
   "codemirror_mode": {
    "name": "ipython",
    "version": 3
   },
   "file_extension": ".py",
   "mimetype": "text/x-python",
   "name": "python",
   "nbconvert_exporter": "python",
   "pygments_lexer": "ipython3",
   "version": "3.10.9"
  },
  "orig_nbformat": 4,
  "vscode": {
   "interpreter": {
    "hash": "1bed0e639ae37f4873fb0f11e8a4526b2621243edb4f8734a70cd3367cf8a468"
   }
  }
 },
 "nbformat": 4,
 "nbformat_minor": 2
}
