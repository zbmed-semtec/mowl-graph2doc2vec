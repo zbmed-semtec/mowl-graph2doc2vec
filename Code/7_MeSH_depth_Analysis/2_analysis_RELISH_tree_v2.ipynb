{
 "cells": [
  {
   "cell_type": "code",
   "execution_count": 1,
   "metadata": {},
   "outputs": [],
   "source": [
    "import json\n",
    "import pandas as pd\n",
    "import seaborn as sns\n",
    "import re\n",
    "import pickle\n",
    "# import mowl\n",
    "# mowl.init_jvm(\"4g\")\n",
    "import networkx as nx\n",
    "from networkx.readwrite import json_graph\n",
    "import matplotlib.pyplot as plt"
   ]
  },
  {
   "attachments": {},
   "cell_type": "markdown",
   "metadata": {},
   "source": [
    "## Load depth graph\n"
   ]
  },
  {
   "cell_type": "code",
   "execution_count": 2,
   "metadata": {},
   "outputs": [
    {
     "name": "stdout",
     "output_type": "stream",
     "text": [
      "1\n"
     ]
    }
   ],
   "source": [
    "big_G = {}\n",
    "\n",
    "def read_json_file(filename):\n",
    "    with open(filename) as f:\n",
    "        js_graph = json.load(f)\n",
    "    return json_graph.node_link_graph(js_graph)\n",
    "\n",
    "big_G = read_json_file(\"../../Data/Output/MeSH_graph_with_depth.json\")\n",
    "\n",
    "print(big_G.nodes[\"D004628\"][\"Depth\"])"
   ]
  },
  {
   "attachments": {},
   "cell_type": "markdown",
   "metadata": {},
   "source": [
    "## Frequency analysis of MeSH terms in RELISH abstracts\n",
    "\n",
    "We will load a json file that contains all the MeSH terms that are mentioned in RELISH abstracts"
   ]
  },
  {
   "cell_type": "code",
   "execution_count": 3,
   "metadata": {},
   "outputs": [
    {
     "name": "stdout",
     "output_type": "stream",
     "text": [
      "  word      df  frequency\n",
      "0  the  388889     0.1680\n",
      "1   of  370731     0.2158\n",
      "2  and  244784     0.6309\n",
      "3   in  377940     0.1965\n",
      "4   to  307461     0.4029\n"
     ]
    }
   ],
   "source": [
    "df_TP = pd.DataFrame()\n",
    "MeSH_cnt = {}\n",
    "\n",
    "'''\n",
    "    Function to load a dataset containing the frequency of words and MeSH in RELISH abstracts.\n",
    "    https://drive.google.com/file/d/1V2jviTCjTq2_qeh4z535P59wr0eCv5ZQ/view?usp=share_link\n",
    "\n",
    "    Input:  path -> The path location of the json file.\n",
    "    Output: A DataFrame with \"word\", \"frequency\"\n",
    "'''\n",
    "\n",
    "def load_Dataset(path):\n",
    "    global df_TP\n",
    "    df_TP = pd.read_csv(path,sep='\\t')\n",
    "    df_TP = df_TP.drop(columns=[\"Unnamed: 0\"])\n",
    "    df_TP.columns = [\"word\",\"df\",\"frequency\"]\n",
    "    print(df_TP.head())\n",
    "\n",
    "load_Dataset(\"../../Data/Input/hybridword2vec_all_idf.tsv\")"
   ]
  },
  {
   "cell_type": "code",
   "execution_count": 4,
   "metadata": {},
   "outputs": [],
   "source": [
    "big_G_nodes = set([x[0] for x in list(big_G.nodes.items())])\n",
    "\n",
    "for k in big_G_nodes:\n",
    "    if(k not in MeSH_cnt):\n",
    "        MeSH_cnt[k] = 0\n",
    "\n",
    "'''\n",
    "    Function to sum up the appearances of each individual MeSH term in the RESLISH abstracts.\n",
    "\n",
    "    Input:  \n",
    "    Output: A Dictionary with the  count of the appearances of a STY, when an STY appears its parents as well appear   \n",
    "            {graph_id : CNT} the graph_id is the number representing a MeSH term in the graph representing the ontology.\n",
    "'''\n",
    "def count_MeSH_in_Dataset():\n",
    "    for i in df_TP.index:\n",
    "        MeSH = str.upper(str(df_TP['word'][i])[4:len(str(df_TP['word'][i]))])\n",
    "        \n",
    "        if MeSH in big_G_nodes:\n",
    "            # print(MeSH)\n",
    "            MeSH_cnt[MeSH] += int(df_TP['df'][i])\n",
    "            \n",
    "    #print(sorted(MeSH_cnt.items(), key=lambda kv:(-kv[1], -kv[0])))\n",
    "\n",
    "count_MeSH_in_Dataset()"
   ]
  },
  {
   "cell_type": "code",
   "execution_count": 5,
   "metadata": {},
   "outputs": [
    {
     "name": "stdout",
     "output_type": "stream",
     "text": [
      "0\n"
     ]
    }
   ],
   "source": [
    "nx.set_node_attributes(big_G, MeSH_cnt, \"Frequency_Pubmed\")\n",
    "print(big_G.nodes[\"D000067565\"][\"Frequency_Pubmed\"])"
   ]
  },
  {
   "cell_type": "code",
   "execution_count": 6,
   "metadata": {},
   "outputs": [],
   "source": [
    "with open(\"../../Data/Output/RELISH_frequency_MeSH_graph_with_depth+freq.json\", \"w\") as fp:\n",
    "            json.dump(json_graph.node_link_data(big_G),fp,indent = 2) "
   ]
  },
  {
   "attachments": {},
   "cell_type": "markdown",
   "metadata": {},
   "source": [
    "## Frequency visualization"
   ]
  },
  {
   "cell_type": "code",
   "execution_count": 7,
   "metadata": {},
   "outputs": [
    {
     "name": "stdout",
     "output_type": "stream",
     "text": [
      "    Depth in Mesh Tree  MeSH count\n",
      "0                    1       49852\n",
      "1                    2      432026\n",
      "2                    3      365935\n",
      "3                    4      528942\n",
      "4                    5      331967\n",
      "5                    6       76023\n",
      "6                    7       34286\n",
      "7                    8       12359\n",
      "8                    9        1394\n",
      "9                   10        2076\n",
      "10                  11        1822\n",
      "11                  12         104\n",
      "12                  13          40\n"
     ]
    },
    {
     "data": {
      "text/plain": [
       "[Text(0.5, 1.0, 'MeSH depth frequencies in RELISH abstracts')]"
      ]
     },
     "execution_count": 7,
     "metadata": {},
     "output_type": "execute_result"
    },
    {
     "data": {
      "image/png": "[encoded data removed]",
      "text/plain": [
       "<Figure size 640x480 with 1 Axes>"
      ]
     },
     "metadata": {},
     "output_type": "display_data"
    }
   ],
   "source": [
    "i = 0\n",
    "Depth_vs_freq = {}\n",
    "for node_id in big_G.nodes:\n",
    "    if(node_id in big_G_nodes and MeSH_cnt[node_id] != 0):\n",
    "        dpth = big_G.nodes[node_id][\"Depth\"]\n",
    "        freq = big_G.nodes[node_id][\"Frequency_Pubmed\"]\n",
    "        if(dpth in Depth_vs_freq): Depth_vs_freq[dpth] += freq\n",
    "        else: Depth_vs_freq[dpth] = freq        \n",
    "        i+=1\n",
    "    # if(i == 20): break\n",
    "\n",
    "sortedKeys = list(Depth_vs_freq.keys())\n",
    "sortedKeys.sort()\n",
    "Depth_vs_freq = {i: Depth_vs_freq[i] for i in sortedKeys}\n",
    "\n",
    "df_Depth_vs_freq = pd.DataFrame()\n",
    "df_Depth_vs_freq['Depth in Mesh Tree'] = list(Depth_vs_freq.keys())\n",
    "df_Depth_vs_freq['MeSH count'] = list(Depth_vs_freq.values())\n",
    "\n",
    "print(df_Depth_vs_freq)\n",
    "sns.barplot(df_Depth_vs_freq, x=\"Depth in Mesh Tree\", y=\"MeSH count\").set(title='MeSH depth frequencies in RELISH abstracts')"
   ]
  },
  {
   "attachments": {},
   "cell_type": "markdown",
   "metadata": {},
   "source": [
    "## Addition of depth column to the hybridword2vec_all_idf dataset\n",
    "\n",
    "The original hybridword2vec_all_idf dataset with a new column regarding "
   ]
  },
  {
   "cell_type": "code",
   "execution_count": 8,
   "metadata": {},
   "outputs": [
    {
     "name": "stdout",
     "output_type": "stream",
     "text": [
      "           word      df  frequency  Depth\n",
      "0           the  388889     0.1680     -1\n",
      "1            of  370731     0.2158     -1\n",
      "2           and  244784     0.6309     -1\n",
      "3            in  377940     0.1965     -1\n",
      "4            to  307461     0.4029     -1\n",
      "5             a  445648     0.0317     -1\n",
      "6            is  187264     0.8987     -1\n",
      "7           for  174439     0.9697     -1\n",
      "8            by  103204     1.4945     -1\n",
      "9     catalyzes  131358     1.2533     -1\n",
      "10         that  104053     1.4863     -1\n",
      "11  meshd011506   86557     1.6704      2\n",
      "12           as  177144     0.9543     -1\n",
      "13         with   97517     1.5512     -1\n",
      "14     involved   94278     1.5850     -1\n",
      "15         from   84097     1.6993     -1\n",
      "16  meshd012380   65290     1.9524      4\n",
      "17           an  320220     0.3622     -1\n",
      "18      complex   54105     2.1403     -1\n",
      "19           it  254851     0.5906     -1\n",
      "\n",
      "Detph of node meshd012380:  4\n"
     ]
    }
   ],
   "source": [
    "depths = []\n",
    "for i in df_TP.index:\n",
    "    node_id = str.upper(str(df_TP['word'][i])[4:len(str(df_TP['word'][i]))])\n",
    "    if(node_id in big_G_nodes and MeSH_cnt[node_id] != 0):\n",
    "        depths.append(big_G.nodes[node_id][\"Depth\"])\n",
    "    else:\n",
    "        depths.append(-1)\n",
    "\n",
    "df_TP['Depth'] = depths\n",
    "\n",
    "df_TP.to_csv(\"../../Data/Output/hybridword2vec_all_idf+depth.tsv\",index=False,sep=\"\\t\")\n",
    "\n",
    "print(df_TP.head(20))\n",
    "print()  \n",
    "print() \n",
    "print(\"Detph of node meshd012380: \",big_G.nodes[\"D012380\"][\"Depth\"])       "
   ]
  },
  {
   "cell_type": "code",
   "execution_count": null,
   "metadata": {},
   "outputs": [],
   "source": []
  }
 ],
 "metadata": {
  "kernelspec": {
   "display_name": "graph2doc2vec_env",
   "language": "python",
   "name": "python3"
  },
  "language_info": {
   "codemirror_mode": {
    "name": "ipython",
    "version": 3
   },
   "file_extension": ".py",
   "mimetype": "text/x-python",
   "name": "python",
   "nbconvert_exporter": "python",
   "pygments_lexer": "ipython3",
   "version": "3.10.9"
  },
  "orig_nbformat": 4,
  "vscode": {
   "interpreter": {
    "hash": "1bed0e639ae37f4873fb0f11e8a4526b2621243edb4f8734a70cd3367cf8a468"
   }
  }
 },
 "nbformat": 4,
 "nbformat_minor": 2
}
